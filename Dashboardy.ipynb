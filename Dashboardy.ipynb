{
  "nbformat": 4,
  "nbformat_minor": 0,
  "metadata": {
    "colab": {
      "provenance": [],
      "authorship_tag": "ABX9TyNI5iac70Eo6RnLGRP0IRa3",
      "include_colab_link": true
    },
    "kernelspec": {
      "name": "python3",
      "display_name": "Python 3"
    },
    "language_info": {
      "name": "python"
    }
  },
  "cells": [
    {
      "cell_type": "markdown",
      "metadata": {
        "id": "view-in-github",
        "colab_type": "text"
      },
      "source": [
        "<a href=\"https://colab.research.google.com/github/pipiakmarcin/data-science-bootcamp/blob/main/Dashboardy.ipynb\" target=\"_parent\"><img src=\"https://colab.research.google.com/assets/colab-badge.svg\" alt=\"Open In Colab\"/></a>"
      ]
    },
    {
      "cell_type": "code",
      "execution_count": 2,
      "metadata": {
        "id": "LQi3r86TeOT-"
      },
      "outputs": [],
      "source": [
        "### Dashboardy"
      ]
    },
    {
      "cell_type": "markdown",
      "source": [
        "Dashboardy"
      ],
      "metadata": {
        "id": "AYpxE-epq4sR"
      }
    },
    {
      "cell_type": "code",
      "source": [],
      "metadata": {
        "id": "gL2ifhgmekaO"
      },
      "execution_count": null,
      "outputs": []
    }
  ]
}